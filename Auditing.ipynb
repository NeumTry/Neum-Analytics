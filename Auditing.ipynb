{
 "cells": [
  {
   "cell_type": "markdown",
   "metadata": {},
   "source": [
    "## Client Generation"
   ]
  },
  {
   "cell_type": "code",
   "execution_count": null,
   "metadata": {},
   "outputs": [],
   "source": [
    "from neumai.Client.NeumClient import NeumClient\n",
    "import pandas as pd\n",
    "import os\n",
    "\n",
    "client = NeumClient(api_key=os.environ['NEUM_API_KEY'])"
   ]
  },
  {
   "cell_type": "markdown",
   "metadata": {},
   "source": [
    "## Helper functions"
   ]
  },
  {
   "cell_type": "code",
   "execution_count": null,
   "metadata": {},
   "outputs": [],
   "source": [
    "from datetime import datetime, timezone\n",
    "\n",
    "def calculate_time_differences_unix(unix_timestamp):\n",
    "    now = datetime.now(timezone.utc)\n",
    "    given_time = datetime.fromtimestamp(unix_timestamp, timezone.utc)\n",
    "\n",
    "    diff = now - given_time\n",
    "    diff_in_seconds = diff.total_seconds()\n",
    "    diff_in_minutes = divmod(diff_in_seconds, 60)[0]\n",
    "    diff_in_hours = divmod(diff_in_minutes, 60)[0]\n",
    "    diff_in_days = divmod(diff_in_hours, 24)[0]\n",
    "\n",
    "    date_str = given_time.strftime('%Y-%m-%d')\n",
    "\n",
    "    if diff_in_seconds < 60:\n",
    "        return f\"{int(diff_in_seconds)} secs ago\"\n",
    "    elif diff_in_minutes < 60:\n",
    "        return f\"{int(diff_in_minutes)} mins ago\"\n",
    "    elif diff_in_hours < 24:\n",
    "        return f\"{int(diff_in_hours)} hours ago\"\n",
    "    elif diff_in_days < 15:\n",
    "        return f\"{int(diff_in_days)} days ago\"\n",
    "    else:\n",
    "        return date_str\n",
    "\n",
    "def calculate_time_differences_iso(iso_timestamp):\n",
    "    now = datetime.now(timezone.utc)\n",
    "    # Parse the ISO 8601 formatted string\n",
    "    given_time = datetime.fromisoformat(iso_timestamp).replace(tzinfo=timezone.utc)\n",
    "\n",
    "    diff = now - given_time\n",
    "    diff_in_seconds = diff.total_seconds()\n",
    "    diff_in_minutes = divmod(diff_in_seconds, 60)[0]\n",
    "    diff_in_hours = divmod(diff_in_minutes, 60)[0]\n",
    "    diff_in_days = divmod(diff_in_hours, 24)[0]\n",
    "\n",
    "    date_str = given_time.strftime('%Y-%m-%d')\n",
    "\n",
    "    if diff_in_seconds < 60:\n",
    "        return f\"{int(diff_in_seconds)} secs ago\"\n",
    "    elif diff_in_minutes < 60:\n",
    "        return f\"{int(diff_in_minutes)} mins ago\"\n",
    "    elif diff_in_hours < 24:\n",
    "        return f\"{int(diff_in_hours)} hours ago\"\n",
    "    elif diff_in_days < 15:\n",
    "        return f\"{int(diff_in_days)} days ago\"\n",
    "    else:\n",
    "        return date_str"
   ]
  },
  {
   "cell_type": "markdown",
   "metadata": {},
   "source": [
    "## Basic Auditing - Pipelines, Files and Users\n",
    "\n",
    "Searches of pipeline"
   ]
  },
  {
   "cell_type": "code",
   "execution_count": null,
   "metadata": {},
   "outputs": [],
   "source": [
    "pipeline_id = \"c8306336-1705-4a78-b26b-24920add9780\"\n",
    "retrievals = client.get_retrievals_by_pipeline_id(pipeline_id = pipeline_id)"
   ]
  },
  {
   "cell_type": "code",
   "execution_count": null,
   "metadata": {},
   "outputs": [],
   "source": [
    "df_retrievals_user = pd.DataFrame(retrievals)\n",
    "df_retrievals_user_grouped = df_retrievals_user.groupby(df_retrievals_user['requested_by']).size()\n",
    "\n",
    "import matplotlib.pyplot as plt\n",
    "\n",
    "plt.figure(figsize=(10, 6))\n",
    "df_retrievals_user_grouped.plot(kind='bar')\n",
    "plt.xlabel('User')\n",
    "plt.ylabel('Retrievals')\n",
    "plt.title(f'Retrievals for pipeline {pipeline_id} per user')\n",
    "plt.xticks(rotation=45)\n",
    "plt.show()"
   ]
  },
  {
   "cell_type": "markdown",
   "metadata": {},
   "source": [
    "Searches by file"
   ]
  },
  {
   "cell_type": "code",
   "execution_count": null,
   "metadata": {},
   "outputs": [],
   "source": [
    "file_id = f\"{pipeline_id}_Fabulous Frozen Delights FAQ/Fabulous Frozen Delights - General FAQ.docx\"\n",
    "file_retrievals = client.get_retrievals_by_file_id(pipeline_id=pipeline_id, file_id=file_id)"
   ]
  },
  {
   "cell_type": "code",
   "execution_count": null,
   "metadata": {},
   "outputs": [],
   "source": [
    "df_file_retrievals = pd.DataFrame(file_retrievals)\n",
    "df_file_retrievals = df_file_retrievals.drop(columns=[\"pipeline_id\", \"results\", \"status\", \"files\"])\n",
    "df_file_retrievals['timestamp'] = df_file_retrievals['timestamp'].apply(calculate_time_differences_unix)\n",
    "# df_retrievals['modified_time'] = df_retrievals['modified_time'].apply(calculate_time_differences_iso)\n",
    "display(df_file_retrievals)"
   ]
  },
  {
   "cell_type": "markdown",
   "metadata": {},
   "source": [
    "Searches of file by users"
   ]
  },
  {
   "cell_type": "code",
   "execution_count": null,
   "metadata": {},
   "outputs": [],
   "source": [
    "import matplotlib.pyplot as plt\n",
    "df_file_retrievals_user = df_file_retrievals.groupby(df_file_retrievals['requested_by']).size()\n",
    "\n",
    "plt.figure(figsize=(10, 6))\n",
    "df_file_retrievals_user.plot(kind='bar')\n",
    "plt.xlabel('User')\n",
    "plt.ylabel('Retrievals')\n",
    "plt.title(f'Retrievals for file {file_id}')\n",
    "plt.xticks(rotation=45)\n",
    "plt.show()"
   ]
  },
  {
   "cell_type": "markdown",
   "metadata": {},
   "source": [
    "Searches by user"
   ]
  },
  {
   "cell_type": "code",
   "execution_count": null,
   "metadata": {},
   "outputs": [],
   "source": [
    "user_id = \"0.17424683841483146\"\n",
    "retrievals_by_user = client.get_retrievals_by_user_id(user_id=user_id)"
   ]
  },
  {
   "cell_type": "code",
   "execution_count": null,
   "metadata": {},
   "outputs": [],
   "source": [
    "df_user_retrievals = pd.DataFrame(retrievals_by_user)\n",
    "df_user_retrievals = df_user_retrievals.drop(columns=[\"pipeline_id\", \"results\", \"status\", \"files\"])\n",
    "df_user_retrievals['timestamp'] = df_user_retrievals['timestamp'].apply(calculate_time_differences_unix)\n",
    "# df_retrievals['modified_time'] = df_retrievals['modified_time'].apply(calculate_time_differences_iso)\n",
    "display(df_user_retrievals)"
   ]
  },
  {
   "cell_type": "code",
   "execution_count": null,
   "metadata": {},
   "outputs": [],
   "source": [
    "import matplotlib.pyplot as plt\n",
    "df_user_retrievals_graph = df_user_retrievals.groupby(df_user_retrievals['timestamp']).size()\n",
    "\n",
    "plt.figure(figsize=(10, 6))\n",
    "df_user_retrievals_graph.plot(kind='bar')\n",
    "plt.xlabel('User')\n",
    "plt.ylabel('Retrievals')\n",
    "plt.title(f'Retrievals for user {user_id}')\n",
    "plt.xticks(rotation=45)\n",
    "plt.show()"
   ]
  },
  {
   "cell_type": "markdown",
   "metadata": {},
   "source": [
    "Searches of a user for a pipeline"
   ]
  },
  {
   "cell_type": "code",
   "execution_count": null,
   "metadata": {},
   "outputs": [],
   "source": [
    "retrievals_by_user_in_pipeline = client.get_retrievals_by_pipeline_id_user_id(user_id=user_id, pipeline_id=pipeline_id)"
   ]
  },
  {
   "cell_type": "code",
   "execution_count": null,
   "metadata": {},
   "outputs": [],
   "source": [
    "df_user_pipeline_retrievals = pd.DataFrame(retrievals_by_user_in_pipeline)\n",
    "df_user_pipeline_retrievals = df_user_pipeline_retrievals.drop(columns=[\"pipeline_id\", \"results\", \"status\", \"files\"])\n",
    "df_user_pipeline_retrievals['timestamp'] = df_user_pipeline_retrievals['timestamp'].apply(calculate_time_differences_unix)\n",
    "# df_retrievals['modified_time'] = df_retrievals['modified_time'].apply(calculate_time_differences_iso)\n",
    "display(df_user_pipeline_retrievals)"
   ]
  },
  {
   "cell_type": "code",
   "execution_count": null,
   "metadata": {},
   "outputs": [],
   "source": [
    "df_user_pipeline_retrievals_graph = df_user_pipeline_retrievals.groupby(df_user_pipeline_retrievals['timestamp']).size()\n",
    "\n",
    "plt.figure(figsize=(10, 6))\n",
    "df_user_pipeline_retrievals_graph.plot(kind='bar')\n",
    "plt.xlabel('User')\n",
    "plt.ylabel('Retrievals')\n",
    "plt.title(f'Retrievals for user {user_id} in pipeline {pipeline_id}')\n",
    "plt.xticks(rotation=45)\n",
    "plt.show()"
   ]
  },
  {
   "cell_type": "markdown",
   "metadata": {},
   "source": [
    "Searches by user on a file"
   ]
  },
  {
   "cell_type": "code",
   "execution_count": null,
   "metadata": {},
   "outputs": [],
   "source": [
    "retrievals_of_file_by_user = client.get_retrievals_by_file_id_user_id(user_id=user_id, file_id=file_id, pipeline_id=pipeline_id)"
   ]
  },
  {
   "cell_type": "code",
   "execution_count": null,
   "metadata": {},
   "outputs": [],
   "source": [
    "df_user_file_retrievals = pd.DataFrame(retrievals_of_file_by_user)\n",
    "df_user_file_retrievals = df_user_file_retrievals.drop(columns=[\"pipeline_id\", \"results\", \"status\", \"files\"])\n",
    "df_user_file_retrievals['timestamp'] = df_user_file_retrievals['timestamp'].apply(calculate_time_differences_unix)\n",
    "# df_retrievals['modified_time'] = df_retrievals['modified_time'].apply(calculate_time_differences_iso)\n",
    "display(df_user_file_retrievals)"
   ]
  },
  {
   "cell_type": "code",
   "execution_count": null,
   "metadata": {},
   "outputs": [],
   "source": [
    "df_user_file_retrievals_graph = df_user_file_retrievals.groupby(df_user_file_retrievals['timestamp']).size()\n",
    "\n",
    "plt.figure(figsize=(10, 6))\n",
    "df_user_file_retrievals_graph.plot(kind='bar')\n",
    "plt.xlabel('User')\n",
    "plt.ylabel('Retrievals')\n",
    "plt.title(f'Retrievals for user {user_id} of file {file_id}')\n",
    "plt.xticks(rotation=45)\n",
    "plt.show()"
   ]
  }
 ],
 "metadata": {
  "kernelspec": {
   "display_name": "Python 3",
   "language": "python",
   "name": "python3"
  },
  "language_info": {
   "codemirror_mode": {
    "name": "ipython",
    "version": 3
   },
   "file_extension": ".py",
   "mimetype": "text/x-python",
   "name": "python",
   "nbconvert_exporter": "python",
   "pygments_lexer": "ipython3",
   "version": "3.11.3"
  }
 },
 "nbformat": 4,
 "nbformat_minor": 2
}
