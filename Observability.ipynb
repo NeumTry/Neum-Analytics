{
 "cells": [
  {
   "cell_type": "markdown",
   "metadata": {},
   "source": [
    "## Client Generation"
   ]
  },
  {
   "cell_type": "code",
   "execution_count": null,
   "metadata": {},
   "outputs": [],
   "source": [
    "from neumai.Client.NeumClient import NeumClient\n",
    "import pandas as pd\n",
    "import os\n",
    "\n",
    "client = NeumClient(api_key=os.environ['NEUM_API_KEY'])"
   ]
  },
  {
   "cell_type": "markdown",
   "metadata": {},
   "source": [
    "## Helper functions"
   ]
  },
  {
   "cell_type": "code",
   "execution_count": null,
   "metadata": {},
   "outputs": [],
   "source": [
    "from datetime import datetime, timezone\n",
    "\n",
    "def calculate_time_differences_unix(unix_timestamp):\n",
    "    now = datetime.now(timezone.utc)\n",
    "    given_time = datetime.fromtimestamp(unix_timestamp, timezone.utc)\n",
    "\n",
    "    diff = now - given_time\n",
    "    diff_in_seconds = diff.total_seconds()\n",
    "    diff_in_minutes = divmod(diff_in_seconds, 60)[0]\n",
    "    diff_in_hours = divmod(diff_in_minutes, 60)[0]\n",
    "    diff_in_days = divmod(diff_in_hours, 24)[0]\n",
    "\n",
    "    date_str = given_time.strftime('%Y-%m-%d')\n",
    "\n",
    "    if diff_in_seconds < 60:\n",
    "        return f\"{int(diff_in_seconds)} secs ago\"\n",
    "    elif diff_in_minutes < 60:\n",
    "        return f\"{int(diff_in_minutes)} mins ago\"\n",
    "    elif diff_in_hours < 24:\n",
    "        return f\"{int(diff_in_hours)} hours ago\"\n",
    "    elif diff_in_days < 15:\n",
    "        return f\"{int(diff_in_days)} days ago\"\n",
    "    else:\n",
    "        return date_str\n"
   ]
  },
  {
   "cell_type": "code",
   "execution_count": null,
   "metadata": {},
   "outputs": [],
   "source": [
    "from datetime import datetime, timezone\n",
    "\n",
    "def calculate_time_differences_iso(iso_timestamp):\n",
    "    now = datetime.now(timezone.utc)\n",
    "    # Parse the ISO 8601 formatted string\n",
    "    given_time = datetime.fromisoformat(iso_timestamp).replace(tzinfo=timezone.utc)\n",
    "\n",
    "    diff = now - given_time\n",
    "    diff_in_seconds = diff.total_seconds()\n",
    "    diff_in_minutes = divmod(diff_in_seconds, 60)[0]\n",
    "    diff_in_hours = divmod(diff_in_minutes, 60)[0]\n",
    "    diff_in_days = divmod(diff_in_hours, 24)[0]\n",
    "\n",
    "    date_str = given_time.strftime('%Y-%m-%d')\n",
    "\n",
    "    if diff_in_seconds < 60:\n",
    "        return f\"{int(diff_in_seconds)} secs ago\"\n",
    "    elif diff_in_minutes < 60:\n",
    "        return f\"{int(diff_in_minutes)} mins ago\"\n",
    "    elif diff_in_hours < 24:\n",
    "        return f\"{int(diff_in_hours)} hours ago\"\n",
    "    elif diff_in_days < 15:\n",
    "        return f\"{int(diff_in_days)} days ago\"\n",
    "    else:\n",
    "        return date_str"
   ]
  },
  {
   "cell_type": "markdown",
   "metadata": {},
   "source": [
    "## Pipelines data -> My Pipelines\n",
    "\n",
    "API to see Number of file collections (pipelines) created"
   ]
  },
  {
   "cell_type": "code",
   "execution_count": null,
   "metadata": {},
   "outputs": [],
   "source": [
    "results = client.get_pipelines()['pipelines_v2']"
   ]
  },
  {
   "cell_type": "code",
   "execution_count": null,
   "metadata": {},
   "outputs": [],
   "source": [
    "df = pd.DataFrame(results)\n",
    "df = df[df[\"is_deleted\"] != True]\n",
    "df = df.drop(columns=[\"sources\", \"embed\", \"sink\", \"trigger_schedule\", \"latest_run\", \"available_metadata\", \"is_deleted\", \"owner\"])\n",
    "df['created'] = df['created'].apply(calculate_time_differences_unix)\n",
    "display(df)"
   ]
  },
  {
   "cell_type": "code",
   "execution_count": null,
   "metadata": {},
   "outputs": [],
   "source": [
    "import matplotlib.pyplot as plt\n",
    "df = pd.DataFrame(results)\n",
    "df = df[df[\"is_deleted\"] != True]\n",
    "df = df.drop(columns=[\"sources\", \"embed\", \"sink\", \"trigger_schedule\", \"latest_run\", \"available_metadata\", \"is_deleted\", \"owner\"])\n",
    "df['created'] = pd.to_datetime(df['created'], unit='s')\n",
    "df_grouped = df.groupby(df['created'].dt.date).size()\n",
    "\n",
    "plt.figure(figsize=(10, 6))\n",
    "df_grouped.plot(kind='bar')\n",
    "plt.xlabel('Day')\n",
    "plt.ylabel('Number of pipelines')\n",
    "plt.title('Pipelines created by day')\n",
    "plt.xticks(rotation=45)\n",
    "plt.show()"
   ]
  },
  {
   "cell_type": "markdown",
   "metadata": {},
   "source": [
    "## Files data -> My Files\n",
    "\n",
    "API to see Number of files synchronized / syncing / failed for each collection"
   ]
  },
  {
   "cell_type": "code",
   "execution_count": null,
   "metadata": {},
   "outputs": [],
   "source": [
    "files = client.get_files(pipeline_id=\"590a6e0d-5444-44d2-8efc-1aadffb72e62\")['files']"
   ]
  },
  {
   "cell_type": "code",
   "execution_count": null,
   "metadata": {},
   "outputs": [],
   "source": [
    "df_files = pd.DataFrame(files)\n",
    "df_files = df_files.drop(columns=[\"metadata\", \"pipeline_id\", \"pipeline_run_id\"])\n",
    "df_files['created_time'] = df_files['created_time'].apply(calculate_time_differences_iso)\n",
    "df_files['modified_time'] = df_files['modified_time'].apply(calculate_time_differences_iso)\n",
    "display(df_files)"
   ]
  },
  {
   "cell_type": "code",
   "execution_count": null,
   "metadata": {},
   "outputs": [],
   "source": [
    "df_files_status_grouped = df_files.groupby(df_files['status']).size()\n",
    "\n",
    "plt.figure(figsize=(10, 6))\n",
    "df_files_status_grouped.plot(kind='bar')\n",
    "plt.xlabel('Status')\n",
    "plt.ylabel('Number of files with status')\n",
    "plt.title(f'Status of files for pipeline {\"590a6e0d-5444-44d2-8efc-1aadffb72e62\"}')\n",
    "plt.xticks(rotation=45)\n",
    "plt.show()"
   ]
  },
  {
   "cell_type": "code",
   "execution_count": null,
   "metadata": {},
   "outputs": [],
   "source": [
    "import matplotlib.pyplot as plt\n",
    "df_files_graph = pd.DataFrame(files)\n",
    "df_files_graph['modified_time'] = pd.to_datetime(df_files_graph['modified_time'])\n",
    "df_files_grouped = df_files_graph.groupby(df_files_graph['modified_time'].dt.date).size()\n",
    "\n",
    "plt.figure(figsize=(10, 6))\n",
    "df_files_grouped.plot(kind='bar')\n",
    "plt.xlabel('Day')\n",
    "plt.ylabel('Files updates')\n",
    "plt.title('File updates tracking')\n",
    "plt.xticks(rotation=45)\n",
    "plt.show()"
   ]
  },
  {
   "cell_type": "markdown",
   "metadata": {},
   "source": [
    "## Search results by pipeline\n",
    "\n",
    "API to see Number of times a file collection has been searched over time"
   ]
  },
  {
   "cell_type": "code",
   "execution_count": null,
   "metadata": {},
   "outputs": [],
   "source": [
    "retrievals = client.get_retrievals_by_pipeline_id(pipeline_id=\"590a6e0d-5444-44d2-8efc-1aadffb72e62\")"
   ]
  },
  {
   "cell_type": "code",
   "execution_count": null,
   "metadata": {},
   "outputs": [],
   "source": [
    "df_retrievals = pd.DataFrame(retrievals)\n",
    "df_retrievals = df_retrievals.drop(columns=[\"pipeline_id\", \"results\", \"status\"])\n",
    "df_retrievals['timestamp'] = df_retrievals['timestamp'].apply(calculate_time_differences_unix)\n",
    "# df_retrievals['modified_time'] = df_retrievals['modified_time'].apply(calculate_time_differences_iso)\n",
    "display(df_retrievals)"
   ]
  },
  {
   "cell_type": "code",
   "execution_count": null,
   "metadata": {},
   "outputs": [],
   "source": [
    "df_retrievals_graph = pd.DataFrame(retrievals)\n",
    "df_retrievals_graph = df_retrievals_graph.drop(columns=[\"pipeline_id\", \"results\", \"status\"])\n",
    "df_retrievals_graph['timestamp'] = pd.to_datetime(df_retrievals_graph['timestamp'], unit='s')  # or 'ms' for milliseconds\n",
    "df_retrievals_grouped = df_retrievals_graph.groupby(df_retrievals_graph['timestamp'].dt.date).size()\n",
    "\n",
    "import matplotlib.pyplot as plt\n",
    "\n",
    "plt.figure(figsize=(10, 6))\n",
    "df_retrievals_grouped.plot(kind='bar')\n",
    "plt.xlabel('Day')\n",
    "plt.ylabel('Retrievals')\n",
    "plt.title(f'Pipeline retrievals for {\"590a6e0d-5444-44d2-8efc-1aadffb72e62\"}')\n",
    "plt.xticks(rotation=45)\n",
    "plt.show()"
   ]
  },
  {
   "cell_type": "markdown",
   "metadata": {},
   "source": [
    "### Number of retrievals for a given file\n",
    "\n",
    "API to see Number of times a file in a file collection has been searched over time"
   ]
  },
  {
   "cell_type": "code",
   "execution_count": null,
   "metadata": {},
   "outputs": [],
   "source": [
    "df_retrievals_exploded = df_retrievals.explode('files')\n",
    "df_retrievals_exploded = df_retrievals_exploded[df_retrievals_exploded[\"files\"] != 'File not defined']\n",
    "display(df_retrievals_exploded)"
   ]
  },
  {
   "cell_type": "code",
   "execution_count": null,
   "metadata": {},
   "outputs": [],
   "source": [
    "import matplotlib.pyplot as plt\n",
    "df_retrievals_exploded_grouped = df_retrievals_exploded.groupby(df_retrievals_exploded['files']).size()\n",
    "\n",
    "plt.figure(figsize=(10, 6))\n",
    "df_retrievals_exploded_grouped.plot(kind='bar')\n",
    "plt.xlabel('File')\n",
    "plt.ylabel('Retrievals')\n",
    "plt.title(f'File retrievals for {\"590a6e0d-5444-44d2-8efc-1aadffb72e62\"}')\n",
    "plt.xticks(rotation=45)\n",
    "plt.show()"
   ]
  },
  {
   "cell_type": "markdown",
   "metadata": {},
   "source": [
    "## Basic Auditing - Pipeline and File\n",
    "Number of searches performed by a user against a pipeline\n",
    "\n",
    "Number of searches performed by a user against a file"
   ]
  },
  {
   "cell_type": "code",
   "execution_count": null,
   "metadata": {},
   "outputs": [],
   "source": [
    "df_retrievals_user = pd.DataFrame(retrievals)\n",
    "df_retrievals_user_grouped = df_retrievals_user.groupby(df_retrievals_user['requested_by']).size()\n",
    "\n",
    "import matplotlib.pyplot as plt\n",
    "\n",
    "plt.figure(figsize=(10, 6))\n",
    "df_retrievals_user_grouped.plot(kind='bar')\n",
    "plt.xlabel('User')\n",
    "plt.ylabel('Retrievals')\n",
    "plt.title(f'Retrievals for pipeline {\"590a6e0d-5444-44d2-8efc-1aadffb72e62\"} per user')\n",
    "plt.xticks(rotation=45)\n",
    "plt.show()"
   ]
  },
  {
   "cell_type": "code",
   "execution_count": null,
   "metadata": {},
   "outputs": [],
   "source": [
    "file_retrievals = client.get_retrievals_by_file_id(pipeline_id=\"590a6e0d-5444-44d2-8efc-1aadffb72e62\", file_id=\"590a6e0d-5444-44d2-8efc-1aadffb72e62_Fabulous Frozen Delights FAQ/Fabulous Frozen Delights - General FAQ.docx\")"
   ]
  },
  {
   "cell_type": "code",
   "execution_count": null,
   "metadata": {},
   "outputs": [],
   "source": [
    "df_file_retrievals = pd.DataFrame(file_retrievals)\n",
    "df_file_retrievals = df_file_retrievals.drop(columns=[\"pipeline_id\", \"results\", \"status\", \"files\"])\n",
    "df_file_retrievals['timestamp'] = df_file_retrievals['timestamp'].apply(calculate_time_differences_unix)\n",
    "# df_retrievals['modified_time'] = df_retrievals['modified_time'].apply(calculate_time_differences_iso)\n",
    "display(df_file_retrievals)"
   ]
  },
  {
   "cell_type": "code",
   "execution_count": null,
   "metadata": {},
   "outputs": [],
   "source": [
    "import matplotlib.pyplot as plt\n",
    "df_file_retrievals_user = df_file_retrievals.groupby(df_file_retrievals['requested_by']).size()\n",
    "\n",
    "plt.figure(figsize=(10, 6))\n",
    "df_file_retrievals_user.plot(kind='bar')\n",
    "plt.xlabel('User')\n",
    "plt.ylabel('Retrievals')\n",
    "plt.title(f'Retrievals for file {\"590a6e0d-5444-44d2-8efc-1aadffb72e62_Fabulous Frozen Delights FAQ/Fabulous Frozen Delights - General FAQ.docx\"}')\n",
    "plt.xticks(rotation=45)\n",
    "plt.show()"
   ]
  },
  {
   "cell_type": "markdown",
   "metadata": {},
   "source": [
    "## Search by user\n",
    "\n",
    "Searches by user\n",
    "\n",
    "Files accessed by user"
   ]
  },
  {
   "cell_type": "code",
   "execution_count": null,
   "metadata": {},
   "outputs": [],
   "source": [
    "#TBD\n",
    "# Total searches\n",
    "# Files accessed by user"
   ]
  },
  {
   "cell_type": "code",
   "execution_count": null,
   "metadata": {},
   "outputs": [],
   "source": []
  }
 ],
 "metadata": {
  "kernelspec": {
   "display_name": "Python 3",
   "language": "python",
   "name": "python3"
  },
  "language_info": {
   "codemirror_mode": {
    "name": "ipython",
    "version": 3
   },
   "file_extension": ".py",
   "mimetype": "text/x-python",
   "name": "python",
   "nbconvert_exporter": "python",
   "pygments_lexer": "ipython3",
   "version": "3.11.3"
  }
 },
 "nbformat": 4,
 "nbformat_minor": 2
}
